{
 "cells": [
  {
   "cell_type": "code",
   "execution_count": 1,
   "id": "9822772d",
   "metadata": {},
   "outputs": [],
   "source": [
    "import numpy as np\n",
    "import pandas as pd\n",
    "import matplotlib.pyplot as plt"
   ]
  },
  {
   "cell_type": "code",
   "execution_count": 23,
   "id": "de6eab40",
   "metadata": {},
   "outputs": [
    {
     "data": {
      "text/html": [
       "<div>\n",
       "<style scoped>\n",
       "    .dataframe tbody tr th:only-of-type {\n",
       "        vertical-align: middle;\n",
       "    }\n",
       "\n",
       "    .dataframe tbody tr th {\n",
       "        vertical-align: top;\n",
       "    }\n",
       "\n",
       "    .dataframe thead th {\n",
       "        text-align: right;\n",
       "    }\n",
       "</style>\n",
       "<table border=\"1\" class=\"dataframe\">\n",
       "  <thead>\n",
       "    <tr style=\"text-align: right;\">\n",
       "      <th></th>\n",
       "      <th>ImpactParameter</th>\n",
       "      <th>S_AB</th>\n",
       "      <th>Stderr(S_AB)</th>\n",
       "    </tr>\n",
       "  </thead>\n",
       "  <tbody>\n",
       "    <tr>\n",
       "      <th>0</th>\n",
       "      <td>0.0</td>\n",
       "      <td>0.922960</td>\n",
       "      <td>0.000013</td>\n",
       "    </tr>\n",
       "    <tr>\n",
       "      <th>1</th>\n",
       "      <td>0.1</td>\n",
       "      <td>0.923016</td>\n",
       "      <td>0.000011</td>\n",
       "    </tr>\n",
       "    <tr>\n",
       "      <th>2</th>\n",
       "      <td>0.2</td>\n",
       "      <td>0.923294</td>\n",
       "      <td>0.000016</td>\n",
       "    </tr>\n",
       "    <tr>\n",
       "      <th>3</th>\n",
       "      <td>0.3</td>\n",
       "      <td>0.923710</td>\n",
       "      <td>0.000015</td>\n",
       "    </tr>\n",
       "    <tr>\n",
       "      <th>4</th>\n",
       "      <td>0.4</td>\n",
       "      <td>0.924303</td>\n",
       "      <td>0.000017</td>\n",
       "    </tr>\n",
       "    <tr>\n",
       "      <th>...</th>\n",
       "      <td>...</td>\n",
       "      <td>...</td>\n",
       "      <td>...</td>\n",
       "    </tr>\n",
       "    <tr>\n",
       "      <th>195</th>\n",
       "      <td>19.5</td>\n",
       "      <td>1.000000</td>\n",
       "      <td>0.000000</td>\n",
       "    </tr>\n",
       "    <tr>\n",
       "      <th>196</th>\n",
       "      <td>19.6</td>\n",
       "      <td>1.000000</td>\n",
       "      <td>0.000000</td>\n",
       "    </tr>\n",
       "    <tr>\n",
       "      <th>197</th>\n",
       "      <td>19.7</td>\n",
       "      <td>1.000000</td>\n",
       "      <td>0.000000</td>\n",
       "    </tr>\n",
       "    <tr>\n",
       "      <th>198</th>\n",
       "      <td>19.8</td>\n",
       "      <td>1.000000</td>\n",
       "      <td>0.000000</td>\n",
       "    </tr>\n",
       "    <tr>\n",
       "      <th>199</th>\n",
       "      <td>19.9</td>\n",
       "      <td>1.000000</td>\n",
       "      <td>0.000000</td>\n",
       "    </tr>\n",
       "  </tbody>\n",
       "</table>\n",
       "<p>200 rows × 3 columns</p>\n",
       "</div>"
      ],
      "text/plain": [
       "     ImpactParameter      S_AB  Stderr(S_AB)\n",
       "0                0.0  0.922960      0.000013\n",
       "1                0.1  0.923016      0.000011\n",
       "2                0.2  0.923294      0.000016\n",
       "3                0.3  0.923710      0.000015\n",
       "4                0.4  0.924303      0.000017\n",
       "..               ...       ...           ...\n",
       "195             19.5  1.000000      0.000000\n",
       "196             19.6  1.000000      0.000000\n",
       "197             19.7  1.000000      0.000000\n",
       "198             19.8  1.000000      0.000000\n",
       "199             19.9  1.000000      0.000000\n",
       "\n",
       "[200 rows x 3 columns]"
      ]
     },
     "metadata": {},
     "output_type": "display_data"
    }
   ],
   "source": [
    "headers = pd.read_csv('../data/S_AB.dat', delim_whitespace=True, nrows=0).columns[1:]\n",
    "results = pd.read_csv('../data/S_AB.dat', delim_whitespace=True, header=None, skiprows=1, names=headers)\n",
    "\n",
    "display(results)"
   ]
  },
  {
   "cell_type": "code",
   "execution_count": 24,
   "id": "f393477e",
   "metadata": {},
   "outputs": [],
   "source": [
    "b = np.array(results['ImpactParameter'])\n",
    "S_AB = np.array(results['S_AB'])\n",
    "S_AB_stderr = np.array(results['Stderr(S_AB)'])"
   ]
  },
  {
   "cell_type": "code",
   "execution_count": 25,
   "id": "e7ffc66b",
   "metadata": {},
   "outputs": [
    {
     "data": {
      "image/png": "[encoded data removed]",
      "text/plain": [
       "<Figure size 432x288 with 1 Axes>"
      ]
     },
     "metadata": {
      "needs_background": "light"
     },
     "output_type": "display_data"
    }
   ],
   "source": [
    "fig, ax = plt.subplots()\n",
    "\n",
    "ax.plot(b, (1 - S_AB))\n",
    "\n",
    "ax.grid()\n",
    "ax.set_ylim(-0.1, 1.1)\n",
    "\n",
    "plt.show()"
   ]
  },
  {
   "cell_type": "code",
   "execution_count": 26,
   "id": "8b1a1e64",
   "metadata": {},
   "outputs": [
    {
     "data": {
      "text/plain": [
       "0.0004697061146204567"
      ]
     },
     "execution_count": 26,
     "metadata": {},
     "output_type": "execute_result"
    }
   ],
   "source": [
    "10 * np.sqrt(np.sum(np.convolve((b * S_AB_stderr) ** 2, np.ones(2) / 2, mode='valid') * np.convolve(b, np.array([1, -1]), mode='valid') / 2))"
   ]
  },
  {
   "cell_type": "code",
   "execution_count": 27,
   "id": "ba13c794",
   "metadata": {},
   "outputs": [
    {
     "name": "stdout",
     "output_type": "stream",
     "text": [
      "42.991071889292925 mb\n"
     ]
    }
   ],
   "source": [
    "sigma_tot = 10 * 4 * np.pi * np.sum(np.convolve((1 - S_AB) * b, np.ones(2) / 2, mode='valid') * np.convolve(b, np.array([1, -1]), mode='valid'))\n",
    "\n",
    "print(sigma_tot, \"mb\")"
   ]
  },
  {
   "cell_type": "code",
   "execution_count": 28,
   "id": "20fbb99b",
   "metadata": {},
   "outputs": [
    {
     "name": "stdout",
     "output_type": "stream",
     "text": [
      "0.8280273359948874 mb\n"
     ]
    }
   ],
   "source": [
    "sigma_el = 10 * 2 * np.pi * np.sum(np.convolve((1 - S_AB) ** 2 * b, np.ones(2) / 2, mode='valid') * np.convolve(b, np.array([1, -1]), mode='valid'))\n",
    "\n",
    "print(sigma_el, \"mb\")"
   ]
  },
  {
   "cell_type": "code",
   "execution_count": 29,
   "id": "0b6cae1d",
   "metadata": {},
   "outputs": [
    {
     "name": "stdout",
     "output_type": "stream",
     "text": [
      "42.163044553298036 mb\n"
     ]
    }
   ],
   "source": [
    "sigma_reac = 10 * 2 * np.pi * np.sum(np.convolve((1 - S_AB ** 2) * b, np.ones(2) / 2, mode='valid') * np.convolve(b, np.array([1, -1]), mode='valid'))\n",
    "\n",
    "print(sigma_reac, \"mb\")"
   ]
  },
  {
   "cell_type": "code",
   "execution_count": null,
   "id": "91186f79",
   "metadata": {},
   "outputs": [],
   "source": []
  },
  {
   "cell_type": "code",
   "execution_count": null,
   "id": "f1108f4e",
   "metadata": {},
   "outputs": [],
   "source": [
    "beta       = np.array([0.2    , 0.35    , 1        , 0.1])\n",
    "sigma_reac = np.array([953.689, 984.5625, 1105.5687, 931.10560])"
   ]
  }
 ],
 "metadata": {
  "kernelspec": {
   "display_name": "uproot",
   "language": "python",
   "name": "uproot"
  },
  "language_info": {
   "codemirror_mode": {
    "name": "ipython",
    "version": 3
   },
   "file_extension": ".py",
   "mimetype": "text/x-python",
   "name": "python",
   "nbconvert_exporter": "python",
   "pygments_lexer": "ipython3",
   "version": "3.10.5"
  }
 },
 "nbformat": 4,
 "nbformat_minor": 5
}
