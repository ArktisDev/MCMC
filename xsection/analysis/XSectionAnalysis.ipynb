{
 "cells": [
  {
   "cell_type": "code",
   "execution_count": 73,
   "id": "9822772d",
   "metadata": {},
   "outputs": [],
   "source": [
    "import numpy as np\n",
    "import pandas as pd\n",
    "import matplotlib.pyplot as plt"
   ]
  },
  {
   "cell_type": "code",
   "execution_count": 115,
   "id": "de6eab40",
   "metadata": {},
   "outputs": [
    {
     "data": {
      "text/html": [
       "<div>\n",
       "<style scoped>\n",
       "    .dataframe tbody tr th:only-of-type {\n",
       "        vertical-align: middle;\n",
       "    }\n",
       "\n",
       "    .dataframe tbody tr th {\n",
       "        vertical-align: top;\n",
       "    }\n",
       "\n",
       "    .dataframe thead th {\n",
       "        text-align: right;\n",
       "    }\n",
       "</style>\n",
       "<table border=\"1\" class=\"dataframe\">\n",
       "  <thead>\n",
       "    <tr style=\"text-align: right;\">\n",
       "      <th></th>\n",
       "      <th>ImpactParameter</th>\n",
       "      <th>S_AB</th>\n",
       "      <th>Stderr(S_AB)</th>\n",
       "    </tr>\n",
       "  </thead>\n",
       "  <tbody>\n",
       "    <tr>\n",
       "      <th>0</th>\n",
       "      <td>0.00</td>\n",
       "      <td>0.844443</td>\n",
       "      <td>0.000014</td>\n",
       "    </tr>\n",
       "    <tr>\n",
       "      <th>1</th>\n",
       "      <td>0.01</td>\n",
       "      <td>0.844447</td>\n",
       "      <td>0.000017</td>\n",
       "    </tr>\n",
       "    <tr>\n",
       "      <th>2</th>\n",
       "      <td>0.02</td>\n",
       "      <td>0.844482</td>\n",
       "      <td>0.000018</td>\n",
       "    </tr>\n",
       "    <tr>\n",
       "      <th>3</th>\n",
       "      <td>0.03</td>\n",
       "      <td>0.844476</td>\n",
       "      <td>0.000019</td>\n",
       "    </tr>\n",
       "    <tr>\n",
       "      <th>4</th>\n",
       "      <td>0.04</td>\n",
       "      <td>0.844501</td>\n",
       "      <td>0.000018</td>\n",
       "    </tr>\n",
       "    <tr>\n",
       "      <th>...</th>\n",
       "      <td>...</td>\n",
       "      <td>...</td>\n",
       "      <td>...</td>\n",
       "    </tr>\n",
       "    <tr>\n",
       "      <th>995</th>\n",
       "      <td>9.95</td>\n",
       "      <td>1.000000</td>\n",
       "      <td>0.000000</td>\n",
       "    </tr>\n",
       "    <tr>\n",
       "      <th>996</th>\n",
       "      <td>9.96</td>\n",
       "      <td>1.000000</td>\n",
       "      <td>0.000000</td>\n",
       "    </tr>\n",
       "    <tr>\n",
       "      <th>997</th>\n",
       "      <td>9.97</td>\n",
       "      <td>1.000000</td>\n",
       "      <td>0.000000</td>\n",
       "    </tr>\n",
       "    <tr>\n",
       "      <th>998</th>\n",
       "      <td>9.98</td>\n",
       "      <td>1.000000</td>\n",
       "      <td>0.000000</td>\n",
       "    </tr>\n",
       "    <tr>\n",
       "      <th>999</th>\n",
       "      <td>9.99</td>\n",
       "      <td>1.000000</td>\n",
       "      <td>0.000000</td>\n",
       "    </tr>\n",
       "  </tbody>\n",
       "</table>\n",
       "<p>1000 rows × 3 columns</p>\n",
       "</div>"
      ],
      "text/plain": [
       "     ImpactParameter      S_AB  Stderr(S_AB)\n",
       "0               0.00  0.844443      0.000014\n",
       "1               0.01  0.844447      0.000017\n",
       "2               0.02  0.844482      0.000018\n",
       "3               0.03  0.844476      0.000019\n",
       "4               0.04  0.844501      0.000018\n",
       "..               ...       ...           ...\n",
       "995             9.95  1.000000      0.000000\n",
       "996             9.96  1.000000      0.000000\n",
       "997             9.97  1.000000      0.000000\n",
       "998             9.98  1.000000      0.000000\n",
       "999             9.99  1.000000      0.000000\n",
       "\n",
       "[1000 rows x 3 columns]"
      ]
     },
     "metadata": {},
     "output_type": "display_data"
    }
   ],
   "source": [
    "headers = pd.read_csv('../data/S_AB.dat', delim_whitespace=True, nrows=0).columns[1:]\n",
    "results = pd.read_csv('../data/S_AB.dat', delim_whitespace=True, header=None, skiprows=1, names=headers)\n",
    "\n",
    "display(results)"
   ]
  },
  {
   "cell_type": "code",
   "execution_count": 116,
   "id": "f393477e",
   "metadata": {},
   "outputs": [],
   "source": [
    "b = np.array(results['ImpactParameter'])\n",
    "S_AB = np.array(results['S_AB'])"
   ]
  },
  {
   "cell_type": "code",
   "execution_count": 117,
   "id": "e7ffc66b",
   "metadata": {},
   "outputs": [
    {
     "data": {
      "image/png": "[encoded data removed]",
      "text/plain": [
       "<Figure size 432x288 with 1 Axes>"
      ]
     },
     "metadata": {
      "needs_background": "light"
     },
     "output_type": "display_data"
    }
   ],
   "source": [
    "fig, ax = plt.subplots()\n",
    "\n",
    "ax.plot(b, (1 - S_AB))\n",
    "\n",
    "ax.grid()\n",
    "ax.set_ylim(-0.1, 1.1)\n",
    "\n",
    "plt.show()"
   ]
  },
  {
   "cell_type": "code",
   "execution_count": 118,
   "id": "ca0522ab",
   "metadata": {},
   "outputs": [
    {
     "data": {
      "text/plain": [
       "0.844443"
      ]
     },
     "execution_count": 118,
     "metadata": {},
     "output_type": "execute_result"
    }
   ],
   "source": [
    "S_AB[0]"
   ]
  },
  {
   "cell_type": "code",
   "execution_count": 124,
   "id": "ba13c794",
   "metadata": {},
   "outputs": [
    {
     "name": "stdout",
     "output_type": "stream",
     "text": [
      "42.999113926663156 mb\n"
     ]
    }
   ],
   "source": [
    "sigma_tot = 10 * 4 * np.pi * np.sum(np.convolve((1 - S_AB) * b, np.ones(2) / 2, mode='valid') * np.convolve(b, np.array([1, -1]), mode='valid'))\n",
    "\n",
    "print(sigma_tot, \"mb\")"
   ]
  },
  {
   "cell_type": "code",
   "execution_count": 125,
   "id": "20fbb99b",
   "metadata": {},
   "outputs": [
    {
     "name": "stdout",
     "output_type": "stream",
     "text": [
      "1.6719907578493796 mb\n"
     ]
    }
   ],
   "source": [
    "sigma_el = 10 * 2 * np.pi * np.sum(np.convolve((1 - S_AB) ** 2 * b, np.ones(2) / 2, mode='valid') * np.convolve(b, np.array([1, -1]), mode='valid'))\n",
    "\n",
    "print(sigma_el, \"mb\")"
   ]
  },
  {
   "cell_type": "code",
   "execution_count": 126,
   "id": "0b6cae1d",
   "metadata": {},
   "outputs": [
    {
     "name": "stdout",
     "output_type": "stream",
     "text": [
      "41.327123168813785 mb\n"
     ]
    }
   ],
   "source": [
    "sigma_reac = 10 * 2 * np.pi * np.sum(np.convolve((1 - S_AB ** 2) * b, np.ones(2) / 2, mode='valid') * np.convolve(b, np.array([1, -1]), mode='valid'))\n",
    "\n",
    "print(sigma_reac, \"mb\")"
   ]
  },
  {
   "cell_type": "code",
   "execution_count": null,
   "id": "91186f79",
   "metadata": {},
   "outputs": [],
   "source": []
  }
 ],
 "metadata": {
  "kernelspec": {
   "display_name": "uproot",
   "language": "python",
   "name": "uproot"
  },
  "language_info": {
   "codemirror_mode": {
    "name": "ipython",
    "version": 3
   },
   "file_extension": ".py",
   "mimetype": "text/x-python",
   "name": "python",
   "nbconvert_exporter": "python",
   "pygments_lexer": "ipython3",
   "version": "3.10.5"
  }
 },
 "nbformat": 4,
 "nbformat_minor": 5
}
