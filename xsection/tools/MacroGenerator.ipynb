{
 "cells": [
  {
   "cell_type": "code",
   "execution_count": 16,
   "id": "600a55fe",
   "metadata": {},
   "outputs": [],
   "source": [
    "%run -i MCMCMacro.py\n",
    "\n",
    "import numpy as np\n",
    "import IPython"
   ]
  },
  {
   "cell_type": "code",
   "execution_count": 20,
   "id": "a50c01a2",
   "metadata": {},
   "outputs": [
    {
     "data": {
      "text/plain": [
       "True"
      ]
     },
     "execution_count": 20,
     "metadata": {},
     "output_type": "execute_result"
    }
   ],
   "source": [
    "# Base template\n",
    "\n",
    "variables = [\n",
    "    {'name':'c', 'type':'float', 'value':2.54}, \n",
    "    {'name':'a', 'type':'float', 'value':0.54}\n",
    "]\n",
    "\n",
    "WSBasePDF = PDF(variables, 'R2WoodsSaxon')\n",
    "\n",
    "s = IntegrationSettings()\n",
    "\n",
    "s.SetMarkovMixLength(1 << 13)\n",
    "s.SetGPUKernelParams(1 << 3, 1 << 6, 1 << 7, 1 << 6)\n",
    "\n",
    "s.SetIsotopeA('C-12')\n",
    "s.SetIsotopeB('C-12')\n",
    "\n",
    "s.SetImpactParamterStepping(0.05, 0.1, 200)\n",
    "\n",
    "\n",
    "s.SetOutputDir('/home/lars/Documents/Github/MCMC/xsection/data/')\n",
    "s.SetOutputFile('out.root')\n",
    "s.SetMacroOutputDir('/home/lars/Documents/Github/MCMC/xsection/macrofiles/test/')\n",
    "s.SetCMakeFileLocation('/home/lars/Documents/Github/MCMC/xsection/')\n",
    "\n",
    "s.SetIntegrationTypes(True, True, False, False)\n",
    "\n",
    "s.SetAllPDFs(WSBasePDF)\n",
    "\n",
    "s.IsValid()"
   ]
  },
  {
   "cell_type": "code",
   "execution_count": 24,
   "id": "6cd469ea",
   "metadata": {},
   "outputs": [],
   "source": [
    "runs = []\n",
    "\n",
    "for idx, c in enumerate(np.linspace(1.5, 1.7, 20)):\n",
    "    newWS = WSBasePDF.ModifyParameterValue('c', c)\n",
    "    \n",
    "    newS = s.Copy()\n",
    "    \n",
    "    newS.SetAllPDFs(newWS)\n",
    "    newS.SetMacroName('macro' + str(idx))\n",
    "    \n",
    "    newS.SetOutputFile('out' + str(idx) + '.root')\n",
    "    \n",
    "    runs.append(newS)"
   ]
  },
  {
   "cell_type": "code",
   "execution_count": 25,
   "id": "0de82452",
   "metadata": {
    "scrolled": false
   },
   "outputs": [
    {
     "name": "stdout",
     "output_type": "stream",
     "text": [
      "Finished generating macros\n"
     ]
    }
   ],
   "source": [
    "i = 0\n",
    "for run in runs:\n",
    "    print('Generating macro ' + str(i) + ' of ' + str(len(runs)))\n",
    "    run.GenerateMacroFile()\n",
    "    run.Compile()\n",
    "    \n",
    "    IPython.display.clear_output(wait='true')\n",
    "    i += 1\n",
    "    \n",
    "IPython.display.clear_output(wait='true')\n",
    "print('Finished generating macros')"
   ]
  },
  {
   "cell_type": "code",
   "execution_count": 26,
   "id": "d8780db1",
   "metadata": {
    "scrolled": false
   },
   "outputs": [
    {
     "name": "stdout",
     "output_type": "stream",
     "text": [
      "Runs finished\n"
     ]
    }
   ],
   "source": [
    "i = 0\n",
    "for run in runs:\n",
    "    print('On run ' + str(i) + ' of ' + str(len(runs)))\n",
    "    \n",
    "    run.Run()\n",
    "    IPython.display.clear_output(wait='true')\n",
    "    i += 1\n",
    "    \n",
    "IPython.display.clear_output(wait='true')\n",
    "print('Runs finished')"
   ]
  },
  {
   "cell_type": "code",
   "execution_count": null,
   "id": "2693c10b",
   "metadata": {},
   "outputs": [],
   "source": []
  }
 ],
 "metadata": {
  "kernelspec": {
   "display_name": "Python 3 (ipykernel)",
   "language": "python",
   "name": "python3"
  },
  "language_info": {
   "codemirror_mode": {
    "name": "ipython",
    "version": 3
   },
   "file_extension": ".py",
   "mimetype": "text/x-python",
   "name": "python",
   "nbconvert_exporter": "python",
   "pygments_lexer": "ipython3",
   "version": "3.10.6"
  }
 },
 "nbformat": 4,
 "nbformat_minor": 5
}
