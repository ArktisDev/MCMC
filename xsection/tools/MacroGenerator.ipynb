{
 "cells": [
  {
   "cell_type": "code",
   "execution_count": 10,
   "id": "600a55fe",
   "metadata": {},
   "outputs": [],
   "source": [
    "%run -i MCMCMacro.py\n",
    "\n",
    "import numpy as np\n",
    "import IPython"
   ]
  },
  {
   "cell_type": "code",
   "execution_count": 11,
   "id": "a50c01a2",
   "metadata": {},
   "outputs": [
    {
     "data": {
      "text/plain": [
       "True"
      ]
     },
     "execution_count": 11,
     "metadata": {},
     "output_type": "execute_result"
    }
   ],
   "source": [
    "# Base template\n",
    "\n",
    "variables = [\n",
    "    {'name':'c', 'type':'float', 'value':2.54}, \n",
    "    {'name':'a', 'type':'float', 'value':0.54}\n",
    "]\n",
    "\n",
    "WSBasePDF = PDF(variables, 'R2WoodsSaxon')\n",
    "\n",
    "s = IntegrationSettings()\n",
    "\n",
    "s.SetMarkovMixLength(1 << 13)\n",
    "s.SetGPUKernelParams(1 << 3, 1 << 10, 1 << 7, 1 << 9)\n",
    "\n",
    "s.SetIsotopeA('C-12')\n",
    "s.SetIsotopeB('C-12')\n",
    "\n",
    "s.SetImpactParamterStepping(0.05, 0.1, 200)\n",
    "\n",
    "\n",
    "s.SetOutputDir('/home/lars/Documents/Github/MCMC/xsection/data/')\n",
    "s.SetOutputFile('out.dat')\n",
    "s.SetMacroOutputDir('/home/lars/Documents/Github/MCMC/xsection/macrofiles/test/')\n",
    "s.SetCMakeFileLocation('/home/lars/Documents/Github/MCMC/xsection/')\n",
    "\n",
    "s.SetIntegrationTypes(True, True, False, False)\n",
    "\n",
    "s.SetAllPDFs(WSBasePDF)\n",
    "\n",
    "s.IsValid()"
   ]
  },
  {
   "cell_type": "code",
   "execution_count": 12,
   "id": "6cd469ea",
   "metadata": {},
   "outputs": [],
   "source": [
    "runs = []\n",
    "\n",
    "for idx, c in enumerate(np.linspace(2, 2.5, 10)):\n",
    "    newWS = WSBasePDF.ModifyParameterValue('c', c)\n",
    "    \n",
    "    newS = s.Copy()\n",
    "    \n",
    "    newS.SetAllPDFs(newWS)\n",
    "    newS.SetMacroName('macro' + str(idx))\n",
    "    \n",
    "    runs.append(newS)"
   ]
  },
  {
   "cell_type": "code",
   "execution_count": 13,
   "id": "0de82452",
   "metadata": {
    "scrolled": false
   },
   "outputs": [
    {
     "name": "stdout",
     "output_type": "stream",
     "text": [
      "Generating macro 0 of 10\n",
      "-- The C compiler identification is GNU 11.2.0\n",
      "-- The CXX compiler identification is GNU 11.2.0\n",
      "-- Detecting C compiler ABI info\n",
      "-- Detecting C compiler ABI info - done\n",
      "-- Check for working C compiler: /usr/bin/cc - skipped\n",
      "-- Detecting C compile features\n",
      "-- Detecting C compile features - done\n",
      "-- Detecting CXX compiler ABI info\n",
      "-- Detecting CXX compiler ABI info - done\n",
      "-- Check for working CXX compiler: /usr/bin/c++ - skipped\n",
      "-- Detecting CXX compile features\n",
      "-- Detecting CXX compile features - done\n",
      "-- The CUDA compiler identification is NVIDIA 11.7.99\n",
      "-- Detecting CUDA compiler ABI info\n",
      "-- Detecting CUDA compiler ABI info - done\n",
      "-- Check for working CUDA compiler: /usr/local/cuda-11.7/bin/nvcc - skipped\n",
      "-- Detecting CUDA compile features\n",
      "-- Detecting CUDA compile features - done\n",
      "-- Configuring done\n",
      "-- Generating done\n",
      "-- Build files have been written to: /home/lars/Documents/Github/MCMC/xsection/macrofiles/test/macro9/macro9.build\n",
      "[ 50%] Building CUDA object CMakeFiles/main.dir/src/main.cu.o\n"
     ]
    },
    {
     "name": "stderr",
     "output_type": "stream",
     "text": [
      "/home/lars/Documents/Github/MCMC/xsection/macrofiles/test/macro9/macro9.mac(84): warning #177-D: variable \"integrateIAB\" was declared but never referenced\n",
      "\n",
      "/home/lars/Documents/Github/MCMC/xsection/macrofiles/test/macro9/macro9.mac(85): warning #177-D: variable \"integrateJAB\" was declared but never referenced\n",
      "\n"
     ]
    },
    {
     "name": "stdout",
     "output_type": "stream",
     "text": [
      "[100%] Linking CUDA executable main\n",
      "[100%] Built target main\n"
     ]
    }
   ],
   "source": [
    "i = 0\n",
    "for run in runs:\n",
    "    print(\"Generating macro \" + str(i) + ' of ' + str(len(runs)))\n",
    "    run.GenerateMacroFile()\n",
    "    run.Compile()\n",
    "    \n",
    "    IPython.display.clear_output(wait='true')\n",
    "    i += 1"
   ]
  },
  {
   "cell_type": "code",
   "execution_count": 76,
   "id": "d8780db1",
   "metadata": {},
   "outputs": [
    {
     "name": "stdout",
     "output_type": "stream",
     "text": [
      "Using macro file: /home/lars/Documents/Github/MCMC/xsection/macro/test/macro0.mac\n",
      "=============================================\n",
      "Per integral:\n",
      "\tTotal threads: 131072\n",
      "\tSamples per thread: 512\n",
      "\tTotal runs: 8\n",
      "\tSamples per run: 67108864\n",
      "\tTotal samples: 536870912\n",
      "\tlog10(Total samples): 8.72987\n",
      "S_AB Integration:\n",
      "\tTotal samples over all b's: 107374182400\n",
      "\tlog10(Total samples): 11.0309\n",
      "=============================================\n",
      "\n",
      "Metropolis chain warmup took 598ms\n",
      "\n",
      "Now starting RMS integration!\n",
      "Progress: [****************************************] 100% 8/8\n",
      "RMS results\n",
      "Nucleon 0 has RMS = 2.53455 +/- 5.04037e-05\n",
      "Nucleon 1 has RMS = 2.53459 +/- 9.20742e-05\n",
      "Nucleon 2 has RMS = 2.53471 +/- 5.99985e-05\n",
      "Nucleon 3 has RMS = 2.53475 +/- 0.000107548\n",
      "Nucleon 4 has RMS = 2.53445 +/- 6.59818e-05\n",
      "Nucleon 5 has RMS = 2.53452 +/- 9.06232e-05\n",
      "Nucleon 6 has RMS = 2.53438 +/- 0.000113137\n",
      "Nucleon 7 has RMS = 2.53443 +/- 0.000169544\n",
      "Nucleon 8 has RMS = 2.5347 +/- 0.000151648\n",
      "Nucleon 9 has RMS = 2.53463 +/- 9.96965e-05\n",
      "Nucleon 10 has RMS = 2.53459 +/- 0.000117443\n",
      "Nucleon 11 has RMS = 2.53455 +/- 0.0001459\n",
      "Nucleon 12 has RMS = 2.53441 +/- 0.000101789\n",
      "Nucleon 13 has RMS = 2.53478 +/- 7.80872e-05\n",
      "Nucleon 14 has RMS = 2.53476 +/- 0.000122853\n",
      "Nucleon 15 has RMS = 2.53468 +/- 0.000128559\n",
      "Nucleon 16 has RMS = 2.53451 +/- 6.92106e-05\n",
      "Nucleon 17 has RMS = 2.53437 +/- 9.99991e-05\n",
      "Nucleon 18 has RMS = 2.53473 +/- 0.000200818\n",
      "Nucleon 19 has RMS = 2.53442 +/- 9.31154e-05\n",
      "Nucleon 20 has RMS = 2.53484 +/- 0.000108597\n",
      "Nucleon 21 has RMS = 2.53465 +/- 7.46573e-05\n",
      "Nucleon 22 has RMS = 2.53461 +/- 0.000143518\n",
      "Nucleon 23 has RMS = 2.53455 +/- 9.76354e-05\n",
      "Now starting S_AB integration\n",
      "Progress: [****************************************] 100% 1600/1600\n"
     ]
    }
   ],
   "source": [
    "i = 0\n",
    "for run in runs:\n",
    "    print(\"On run \" + str(i) + ' of ' + str(len(runs)))\n",
    "    \n",
    "    run.Run()\n",
    "    IPython.display.clear_output(wait='true')\n",
    "    i += 1"
   ]
  },
  {
   "cell_type": "code",
   "execution_count": null,
   "id": "2693c10b",
   "metadata": {},
   "outputs": [],
   "source": []
  }
 ],
 "metadata": {
  "kernelspec": {
   "display_name": "Python 3 (ipykernel)",
   "language": "python",
   "name": "python3"
  },
  "language_info": {
   "codemirror_mode": {
    "name": "ipython",
    "version": 3
   },
   "file_extension": ".py",
   "mimetype": "text/x-python",
   "name": "python",
   "nbconvert_exporter": "python",
   "pygments_lexer": "ipython3",
   "version": "3.10.4"
  }
 },
 "nbformat": 4,
 "nbformat_minor": 5
}
