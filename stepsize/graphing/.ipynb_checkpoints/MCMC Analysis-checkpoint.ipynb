{
 "cells": [
  {
   "cell_type": "code",
   "execution_count": 1,
   "id": "b342e0d0",
   "metadata": {},
   "outputs": [],
   "source": [
    "import matplotlib.pyplot as plt\n",
    "import numpy as np\n",
    "import scipy.integrate\n",
    "import pandas as pd"
   ]
  },
  {
   "cell_type": "code",
   "execution_count": 96,
   "id": "8491972b",
   "metadata": {},
   "outputs": [],
   "source": [
    "def pdf(r):\n",
    "    if (r <= 0):\n",
    "        return 0\n",
    "    else:\n",
    "        return r * r / (1 + np.exp((r - 2) / 0.54))\n",
    "    \n",
    "area = scipy.integrate.quad(pdf, 0, 20)[0]\n",
    "\n",
    "def pdf(r):\n",
    "    return np.where(r < 0, 0, (r * r / (1 + np.exp((r - 2) / 0.54))) * 1 / area)\n",
    "\n",
    "def ReadStepSizeFile(stepsize):\n",
    "    data = pd.read_csv('../data/samples_' + str(stepsize) + '.txt', delim_whitespace=True, header=None)\n",
    "    \n",
    "    return data"
   ]
  },
  {
   "cell_type": "code",
   "execution_count": 15,
   "id": "dfb95468",
   "metadata": {},
   "outputs": [
    {
     "data": {
      "text/html": [
       "<div>\n",
       "<style scoped>\n",
       "    .dataframe tbody tr th:only-of-type {\n",
       "        vertical-align: middle;\n",
       "    }\n",
       "\n",
       "    .dataframe tbody tr th {\n",
       "        vertical-align: top;\n",
       "    }\n",
       "\n",
       "    .dataframe thead th {\n",
       "        text-align: right;\n",
       "    }\n",
       "</style>\n",
       "<table border=\"1\" class=\"dataframe\">\n",
       "  <thead>\n",
       "    <tr style=\"text-align: right;\">\n",
       "      <th></th>\n",
       "      <th>Stepsize</th>\n",
       "      <th>Acceptance</th>\n",
       "      <th>Autocorrelation</th>\n",
       "    </tr>\n",
       "  </thead>\n",
       "  <tbody>\n",
       "    <tr>\n",
       "      <th>0</th>\n",
       "      <td>0.01</td>\n",
       "      <td>0.9944</td>\n",
       "      <td>0.999732</td>\n",
       "    </tr>\n",
       "    <tr>\n",
       "      <th>1</th>\n",
       "      <td>0.02</td>\n",
       "      <td>0.9957</td>\n",
       "      <td>0.998465</td>\n",
       "    </tr>\n",
       "    <tr>\n",
       "      <th>2</th>\n",
       "      <td>0.03</td>\n",
       "      <td>0.9897</td>\n",
       "      <td>0.999301</td>\n",
       "    </tr>\n",
       "    <tr>\n",
       "      <th>3</th>\n",
       "      <td>0.04</td>\n",
       "      <td>0.9862</td>\n",
       "      <td>0.997598</td>\n",
       "    </tr>\n",
       "    <tr>\n",
       "      <th>4</th>\n",
       "      <td>0.05</td>\n",
       "      <td>0.9759</td>\n",
       "      <td>0.998206</td>\n",
       "    </tr>\n",
       "    <tr>\n",
       "      <th>...</th>\n",
       "      <td>...</td>\n",
       "      <td>...</td>\n",
       "      <td>...</td>\n",
       "    </tr>\n",
       "    <tr>\n",
       "      <th>695</th>\n",
       "      <td>6.96</td>\n",
       "      <td>0.1608</td>\n",
       "      <td>0.805548</td>\n",
       "    </tr>\n",
       "    <tr>\n",
       "      <th>696</th>\n",
       "      <td>6.97</td>\n",
       "      <td>0.1676</td>\n",
       "      <td>0.808146</td>\n",
       "    </tr>\n",
       "    <tr>\n",
       "      <th>697</th>\n",
       "      <td>6.98</td>\n",
       "      <td>0.1634</td>\n",
       "      <td>0.798640</td>\n",
       "    </tr>\n",
       "    <tr>\n",
       "      <th>698</th>\n",
       "      <td>6.99</td>\n",
       "      <td>0.1649</td>\n",
       "      <td>0.811102</td>\n",
       "    </tr>\n",
       "    <tr>\n",
       "      <th>699</th>\n",
       "      <td>7.00</td>\n",
       "      <td>0.1669</td>\n",
       "      <td>0.794453</td>\n",
       "    </tr>\n",
       "  </tbody>\n",
       "</table>\n",
       "<p>700 rows × 3 columns</p>\n",
       "</div>"
      ],
      "text/plain": [
       "     Stepsize  Acceptance  Autocorrelation\n",
       "0        0.01      0.9944         0.999732\n",
       "1        0.02      0.9957         0.998465\n",
       "2        0.03      0.9897         0.999301\n",
       "3        0.04      0.9862         0.997598\n",
       "4        0.05      0.9759         0.998206\n",
       "..        ...         ...              ...\n",
       "695      6.96      0.1608         0.805548\n",
       "696      6.97      0.1676         0.808146\n",
       "697      6.98      0.1634         0.798640\n",
       "698      6.99      0.1649         0.811102\n",
       "699      7.00      0.1669         0.794453\n",
       "\n",
       "[700 rows x 3 columns]"
      ]
     },
     "metadata": {},
     "output_type": "display_data"
    }
   ],
   "source": [
    "headers = pd.read_csv('../data/statistics.txt', delim_whitespace=True, nrows=0).columns[1:]\n",
    "stats = pd.read_csv('../data/statistics.txt', delim_whitespace=True, header=None, skiprows=1, names=headers)\n",
    "\n",
    "display(stats)"
   ]
  },
  {
   "cell_type": "code",
   "execution_count": 16,
   "id": "c100c1ac",
   "metadata": {},
   "outputs": [
    {
     "data": {
      "image/png": "[encoded data removed]",
      "text/plain": [
       "<Figure size 576x432 with 1 Axes>"
      ]
     },
     "metadata": {
      "needs_background": "light"
     },
     "output_type": "display_data"
    }
   ],
   "source": [
    "fig, ax = plt.subplots(figsize=(8,6))\n",
    "\n",
    "ax.scatter(stats['Stepsize'], stats['Autocorrelation'], s=1, label='Autocorrelation')\n",
    "ax.scatter(stats['Stepsize'], stats['Acceptance'], s=1, label='Acceptance Ratio')\n",
    "\n",
    "ax.set_ylabel('Percent', fontsize=14)\n",
    "ax.set_xlabel('Step size', fontsize=14)\n",
    "ax.set_title('MCMC Analysis', fontsize=18)\n",
    "\n",
    "ax.grid()\n",
    "ax.legend(fontsize=14)\n",
    "\n",
    "plt.show()"
   ]
  },
  {
   "cell_type": "code",
   "execution_count": 152,
   "id": "cbf3b794",
   "metadata": {},
   "outputs": [
    {
     "data": {
      "text/html": [
       "<div>\n",
       "<style scoped>\n",
       "    .dataframe tbody tr th:only-of-type {\n",
       "        vertical-align: middle;\n",
       "    }\n",
       "\n",
       "    .dataframe tbody tr th {\n",
       "        vertical-align: top;\n",
       "    }\n",
       "\n",
       "    .dataframe thead th {\n",
       "        text-align: right;\n",
       "    }\n",
       "</style>\n",
       "<table border=\"1\" class=\"dataframe\">\n",
       "  <thead>\n",
       "    <tr style=\"text-align: right;\">\n",
       "      <th></th>\n",
       "      <th>0</th>\n",
       "    </tr>\n",
       "  </thead>\n",
       "  <tbody>\n",
       "    <tr>\n",
       "      <th>0</th>\n",
       "      <td>2.53350</td>\n",
       "    </tr>\n",
       "    <tr>\n",
       "      <th>1</th>\n",
       "      <td>2.53350</td>\n",
       "    </tr>\n",
       "    <tr>\n",
       "      <th>2</th>\n",
       "      <td>2.53350</td>\n",
       "    </tr>\n",
       "    <tr>\n",
       "      <th>3</th>\n",
       "      <td>2.53350</td>\n",
       "    </tr>\n",
       "    <tr>\n",
       "      <th>4</th>\n",
       "      <td>2.53350</td>\n",
       "    </tr>\n",
       "    <tr>\n",
       "      <th>...</th>\n",
       "      <td>...</td>\n",
       "    </tr>\n",
       "    <tr>\n",
       "      <th>9995</th>\n",
       "      <td>4.39581</td>\n",
       "    </tr>\n",
       "    <tr>\n",
       "      <th>9996</th>\n",
       "      <td>3.59956</td>\n",
       "    </tr>\n",
       "    <tr>\n",
       "      <th>9997</th>\n",
       "      <td>2.57752</td>\n",
       "    </tr>\n",
       "    <tr>\n",
       "      <th>9998</th>\n",
       "      <td>2.57752</td>\n",
       "    </tr>\n",
       "    <tr>\n",
       "      <th>9999</th>\n",
       "      <td>2.57752</td>\n",
       "    </tr>\n",
       "  </tbody>\n",
       "</table>\n",
       "<p>10000 rows × 1 columns</p>\n",
       "</div>"
      ],
      "text/plain": [
       "            0\n",
       "0     2.53350\n",
       "1     2.53350\n",
       "2     2.53350\n",
       "3     2.53350\n",
       "4     2.53350\n",
       "...       ...\n",
       "9995  4.39581\n",
       "9996  3.59956\n",
       "9997  2.57752\n",
       "9998  2.57752\n",
       "9999  2.57752\n",
       "\n",
       "[10000 rows x 1 columns]"
      ]
     },
     "metadata": {},
     "output_type": "display_data"
    }
   ],
   "source": [
    "for i in np.arange(400, stats.shape[0] + 1, 1):\n",
    "    data = ReadStepSizeFile(i)\n",
    "    display(data)\n",
    "    break"
   ]
  },
  {
   "cell_type": "code",
   "execution_count": 151,
   "id": "a10958c1",
   "metadata": {
    "scrolled": false
   },
   "outputs": [
    {
     "data": {
      "image/png": "[encoded data removed]",
      "text/plain": [
       "<Figure size 576x432 with 1 Axes>"
      ]
     },
     "metadata": {
      "needs_background": "light"
     },
     "output_type": "display_data"
    }
   ],
   "source": [
    "(bars, lims) = np.histogram(data[0], bins=int(data.shape[0] / 100), density=True)\n",
    "centers = np.convolve(lims, np.ones(2) / 2, mode='valid')\n",
    "\n",
    "\n",
    "fig, ax = plt.subplots(figsize=(8, 6))\n",
    "\n",
    "x = np.linspace(min(0, np.min(lims)), max(6, np.max(lims)), 1000)\n",
    "y = pdf(x)\n",
    "\n",
    "ax.bar(centers, bars, width=binWidth, zorder=9, label='Sampled')\n",
    "ax.plot(x, y, zorder=10, c='green', label='Real')\n",
    "\n",
    "ax.set_xlabel('r', fontsize = 14)\n",
    "ax.set_ylabel('pdf', fontsize = 14)\n",
    "ax.set_title('Sampled vs Real Distribution', fontsize = 18)\n",
    "\n",
    "ax.grid()\n",
    "ax.legend(fontsize = 14)\n",
    "\n",
    "plt.show()"
   ]
  },
  {
   "cell_type": "code",
   "execution_count": null,
   "id": "21343528",
   "metadata": {},
   "outputs": [],
   "source": []
  }
 ],
 "metadata": {
  "kernelspec": {
   "display_name": "Python 3",
   "language": "python",
   "name": "python3"
  },
  "language_info": {
   "codemirror_mode": {
    "name": "ipython",
    "version": 3
   },
   "file_extension": ".py",
   "mimetype": "text/x-python",
   "name": "python",
   "nbconvert_exporter": "python",
   "pygments_lexer": "ipython3",
   "version": "3.8.8"
  }
 },
 "nbformat": 4,
 "nbformat_minor": 5
}
